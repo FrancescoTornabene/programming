{
 "cells": [
  {
   "cell_type": "markdown",
   "metadata": {},
   "source": [
    "# Strutture dati gerarchiche\n",
    "Abbiamo visto come una coppia permette di ottenere un unico dato aggregato partendo da due dati primitivi.\n",
    "\n",
    "Concettualmente, una coppia viene rappresentata in modo diretto usando una raffigurazione *box-and-pointer* (VEDI SLIDES). Per una coppia in pratica abbiamo un doppio box di \"puntatori\", ognuno che \"punta\" ad uno dei due dati primitivi.\n",
    "\n",
    "La coppia può essere definita anche in termini di se stessa: possiamo avere una coppia di coppie:"
   ]
  },
  {
   "cell_type": "code",
   "execution_count": 1,
   "metadata": {
    "collapsed": true
   },
   "outputs": [],
   "source": [
    "a = ((1,2), (3,4))"
   ]
  },
  {
   "cell_type": "code",
   "execution_count": 2,
   "metadata": {
    "collapsed": false
   },
   "outputs": [
    {
     "name": "stdout",
     "output_type": "stream",
     "text": [
      "((1, 2), (3, 4))\n"
     ]
    }
   ],
   "source": [
    "print(a)"
   ]
  },
  {
   "cell_type": "code",
   "execution_count": 3,
   "metadata": {
    "collapsed": false
   },
   "outputs": [
    {
     "name": "stdout",
     "output_type": "stream",
     "text": [
      "(1, 2)\n"
     ]
    }
   ],
   "source": [
    "print(a[0])"
   ]
  },
  {
   "cell_type": "markdown",
   "metadata": {},
   "source": [
    "La possibilità di definire coppie i cui elementi sono delle coppie è essenziale per poter rappresentare una **LISTA** di dati, in cui ciascun elemento della lista può essere lui stesso una lista."
   ]
  },
  {
   "cell_type": "markdown",
   "metadata": {},
   "source": [
    "Una delle strutture dati più utilizzata che possiamo costruire a partire dalle coppie è quella di **SEQUENZA**, ovvero di una collezione ordinata di dati. Ovviamente, possiamo avere molti modi di rappresentare una sequenza di numeri in termini di coppie, e il modo più semplice è quello di usare una *catena di coppie*, in cui l'ultima coppia ha come secondo elemento un **simbolo** che rappresenta un valore il cui significato è di segnalare la fine della lista."
   ]
  },
  {
   "cell_type": "code",
   "execution_count": 5,
   "metadata": {
    "collapsed": false
   },
   "outputs": [
    {
     "name": "stdout",
     "output_type": "stream",
     "text": [
      "(1, (2, (3, (4, None))))\n"
     ]
    }
   ],
   "source": [
    "Ls = (1, (2, (3, (4, None))))\n",
    "print(Ls)"
   ]
  },
  {
   "cell_type": "markdown",
   "metadata": {},
   "source": [
    "La sequenza di numeri ordinati in `Ls` è comunemente chiamata una *lista*. Il termine *lista* in base al linguaggio di programmazione usato potrebbe introdurre alcune ambiguità che vedremo più avanti."
   ]
  },
  {
   "cell_type": "markdown",
   "metadata": {},
   "source": [
    "**ESEMPIO:** Procedura che restituisce una lista di numeri naturali da 1 a $n$."
   ]
  },
  {
   "cell_type": "code",
   "execution_count": 6,
   "metadata": {
    "collapsed": true
   },
   "outputs": [],
   "source": [
    "def MakeList(n):\n",
    "    def MakeI(a):\n",
    "        if a == n:\n",
    "            return (a, None)\n",
    "        return (a, MakeI(a+1)) \n",
    "    return MakeI(1)"
   ]
  },
  {
   "cell_type": "code",
   "execution_count": 8,
   "metadata": {
    "collapsed": false
   },
   "outputs": [
    {
     "name": "stdout",
     "output_type": "stream",
     "text": [
      "(1, (2, (3, (4, (5, None)))))\n"
     ]
    }
   ],
   "source": [
    "Ls = MakeList(5)\n",
    "print(Ls)"
   ]
  },
  {
   "cell_type": "markdown",
   "metadata": {},
   "source": [
    "Il valore `None` in questo contesto può essere pensato come ad una sequenza di nessun elemento, ovvero una lista vuota.\n",
    "\n",
    "Essendo una lista una catena di coppie, possiamo sempre usare i *selettori* di una coppia per accedere a quella che viene chiamata la testa (head) e la coda (tail) di una lista:"
   ]
  },
  {
   "cell_type": "code",
   "execution_count": 11,
   "metadata": {
    "collapsed": false
   },
   "outputs": [
    {
     "name": "stdout",
     "output_type": "stream",
     "text": [
      "head: 1\n",
      "tail: (2, (3, (4, (5, None))))\n"
     ]
    }
   ],
   "source": [
    "def Head(Ls):\n",
    "    return Ls[0]\n",
    "\n",
    "def Tail(Ls):\n",
    "    return Ls[1]\n",
    "\n",
    "Ls = MakeList(5)\n",
    "print(\"head:\", Head(Ls))\n",
    "print(\"tail:\", Tail(Ls))"
   ]
  },
  {
   "cell_type": "markdown",
   "metadata": {},
   "source": [
    "### Operazioni su lista\n",
    "Per poter utilizzare le lista bisogna definire delle operazioni utili, prima tra tutte la possibilità di accedere all'ennesimo elemento di una lista.\n",
    "\n",
    "**ESERCIZIO 9.1:** Scrivere una procedura chiamata `Nth(Ls, i)` che prende in input una lista `Ls` e numero intero `i` e restituisce l'$i$-esimo elemento della lista."
   ]
  },
  {
   "cell_type": "code",
   "execution_count": 12,
   "metadata": {
    "collapsed": false
   },
   "outputs": [
    {
     "name": "stdout",
     "output_type": "stream",
     "text": [
      "4\n"
     ]
    }
   ],
   "source": [
    "def Nth(Ls, i):\n",
    "    if i == 0:\n",
    "        return Head(Ls)\n",
    "    return Nth(Tail(Ls), i-1)\n",
    "\n",
    "print(Nth(Ls, 3))"
   ]
  },
  {
   "cell_type": "markdown",
   "metadata": {},
   "source": [
    "**ESERCIZIO 9.2:** Scrivere una procedura chiamata `Length(Ls)`che calcoli la lunghezza di una lista."
   ]
  },
  {
   "cell_type": "code",
   "execution_count": 13,
   "metadata": {
    "collapsed": false
   },
   "outputs": [
    {
     "name": "stdout",
     "output_type": "stream",
     "text": [
      "5\n"
     ]
    }
   ],
   "source": [
    "def Length(Ls):\n",
    "    def LengthI(Ls, x):\n",
    "        if Ls == None:\n",
    "            return x\n",
    "        return LengthI(Tail(Ls), x+1)\n",
    "    return LengthI(Ls, 0)\n",
    "    \n",
    "print(Length(Ls))"
   ]
  },
  {
   "cell_type": "markdown",
   "metadata": {},
   "source": [
    "**ESERCIZIO 9.3:** Scrivere una procedura che prende in input due liste, e restituisce un'unica lista che contiene prima tutti gli elementi della prima lista, e poi quella della seconda lista."
   ]
  },
  {
   "cell_type": "code",
   "execution_count": null,
   "metadata": {
    "collapsed": true
   },
   "outputs": [],
   "source": [
    "# Completare"
   ]
  },
  {
   "cell_type": "markdown",
   "metadata": {},
   "source": [
    "**ESERCIZIO 9.4:** Scrivere una procedura che prende in input una lista e restituisce la stessa lista ma con l'ordine degli elementi invertiti. Esempio: la lista (1,(2,(3,None))) diventa (3, (2, (1, None)))."
   ]
  },
  {
   "cell_type": "code",
   "execution_count": null,
   "metadata": {
    "collapsed": true
   },
   "outputs": [],
   "source": [
    "# Completare"
   ]
  }
 ],
 "metadata": {
  "kernelspec": {
   "display_name": "Python [default]",
   "language": "python",
   "name": "python3"
  },
  "language_info": {
   "codemirror_mode": {
    "name": "ipython",
    "version": 3
   },
   "file_extension": ".py",
   "mimetype": "text/x-python",
   "name": "python",
   "nbconvert_exporter": "python",
   "pygments_lexer": "ipython3",
   "version": "3.5.3"
  }
 },
 "nbformat": 4,
 "nbformat_minor": 2
}
