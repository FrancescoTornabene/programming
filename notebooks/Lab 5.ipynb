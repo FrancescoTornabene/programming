{
 "cells": [
  {
   "cell_type": "markdown",
   "metadata": {},
   "source": [
    "# Funzioni di variabili reali a valori reali\n",
    "Vediamo in questo notebook come sia possibile riprodurre in Python i grafici di pagina 34 del libro Giaquinta-Modica, grafici che avete visto, o vedrete, nel corso di [Analisi 1](http://elearning1.unipv.it/matematica/course/view.php?id=10) (si veda su Kiro, per il corso di Analisi).\n",
    "\n",
    "Per prima cosa dobbiamo importare nel workspace due librerie:\n",
    "\n",
    "1. [Numpy](http://www.numpy.org/)\n",
    "2. [Matplotlib](https://matplotlib.org/)\n",
    "\n",
    "Come fatto nel primo laboratorio, per importare tutte le funzioni di una libreria esterna si usa il comando:\n",
    "\n",
    "```\n",
    "from <nome_libreria> import *\n",
    "```\n",
    "\n",
    "In questo modo, se al posto di `nome_libreria` mettiamo per esempio `numpy`, importeremo nel nostro workspace tutte le funzioni definite nella libreria `numpy`. Spesso, per tenere il workspace più pulito possibile (poche variabili, poche funzioni) si importano solo le funzioni della libreria che devono essere effettivamente usate.\n",
    "Nel nostro caso, dalle due librerie ci bastano importare la funzione `linspace` e l'oggetto `plot`:"
   ]
  },
  {
   "cell_type": "code",
   "execution_count": null,
   "metadata": {
    "collapsed": false
   },
   "outputs": [],
   "source": [
    "# Importo dalla libreria solo gli oggetti che mi servono veramente\n",
    "from numpy import linspace\n",
    "from matplotlib.pyplot import plot, xlabel, ylabel, show"
   ]
  },
  {
   "cell_type": "markdown",
   "metadata": {},
   "source": [
    "Vediamo prima a cosa serve la funzione [linspace(a, b, n)](https://docs.scipy.org/doc/numpy-1.13.0/reference/generated/numpy.linspace.html). Questa funzione serve per ottenere una sequenza di $n$ numeri equidistanziati nell'intervallo $[a,b]$. Per esempio:"
   ]
  },
  {
   "cell_type": "code",
   "execution_count": null,
   "metadata": {
    "collapsed": false
   },
   "outputs": [],
   "source": [
    "linspace(0,10,21)"
   ]
  },
  {
   "cell_type": "markdown",
   "metadata": {},
   "source": [
    "In pratica, possiamo usare la funzione `linspace` per definire un dominio di una funzione come un insieme finito di punti in $\\mathbb{R}$. Se facciamo riferimento alla Figura 3.8 del Giaquinta-Modica, potremmo definire il dominio:"
   ]
  },
  {
   "cell_type": "code",
   "execution_count": null,
   "metadata": {
    "collapsed": true
   },
   "outputs": [],
   "source": [
    "D = linspace(-2, 2, 1000)\n",
    "#print(D)"
   ]
  },
  {
   "cell_type": "markdown",
   "metadata": {},
   "source": [
    "A partire da ogni punto del dominio possiamo calcolare ogni valore di $y=f(x)$ per ogni $x\\in D$. Dobbiamo prima definire qual'è la funzione di cui vogliamo visualizzare il grafico. Consideriamo prima la funzione:\n",
    "\n",
    "$$f(x) = x^2$$\n",
    "\n",
    "Che può essere implementata in modo diretto con la procedura:"
   ]
  },
  {
   "cell_type": "code",
   "execution_count": null,
   "metadata": {
    "collapsed": true
   },
   "outputs": [],
   "source": [
    "def Quadrato(x):\n",
    "    return x**2"
   ]
  },
  {
   "cell_type": "markdown",
   "metadata": {},
   "source": [
    "A questo punto ci serve un modo per applicare questa procedura (funzione matematica) ad ogni elemento del dominio di $f(x)$. Per far questo possiamo usare una sintassi particolare, chiamata **list comprehension**, definita come segue:\n",
    "\n",
    "```\n",
    "Y = [F(x) for x in D]\n",
    "```\n",
    "\n",
    "in cui `<for>` e `<in>` sono due parole chiave di Python, mentre `<F>`, `<D>`, e `<Y>` sono:\n",
    "\n",
    "1. (input) `F()` è una procedura che implementa una funzione $f : \\mathbb{R} \\rightarrow \\mathbb{R}$, come ad esempio la funzione `Quadrato` definita sopra.\n",
    "\n",
    "2. (input) `D` è una sequenza di numeri a cui vogliamo applicare la funzione `F` data in input, ottenuta per esempio con la funzione `linspace`.\n",
    "\n",
    "3. (output) `Y` è una sequenza di numeri, della stessa lunghezza di `D`, che contiene per ogni elemento `x` in `D`, il valore `F(x)`. \n",
    "\n",
    "Vediamo un semplice esempio concreto:"
   ]
  },
  {
   "cell_type": "code",
   "execution_count": null,
   "metadata": {
    "collapsed": false
   },
   "outputs": [],
   "source": [
    "D = linspace(1,5,5)\n",
    "print(D)"
   ]
  },
  {
   "cell_type": "code",
   "execution_count": null,
   "metadata": {
    "collapsed": false
   },
   "outputs": [],
   "source": [
    "Y = [Quadrato(x) for x in D]\n",
    "print(Y)"
   ]
  },
  {
   "cell_type": "markdown",
   "metadata": {},
   "source": [
    "Come si può vedere ad ogni elemento della sequenza `D` corrisponde un valore della sequenza `Y`, che contiene il suo quadrato. Potremmo usare questi punti per interpolare un grafico di questa funzione, ma per ottenere un'interpolazione accurata, dovremmo utilizzare un numero più elevato di elementi del dominio.\n",
    "\n",
    "Se ritorniamo all'esempio di Figura 3.8 del Giaquinta-Modica, possiamo definire le coppie da rappresentare $(x, y=f(x))$ nel modo seguente:"
   ]
  },
  {
   "cell_type": "code",
   "execution_count": null,
   "metadata": {
    "collapsed": true
   },
   "outputs": [],
   "source": [
    "D = linspace(-2,2,1000) # 1000 punti equidistanziati nell'intervallo [-2,2]"
   ]
  },
  {
   "cell_type": "code",
   "execution_count": null,
   "metadata": {
    "collapsed": true
   },
   "outputs": [],
   "source": [
    "Y = [Quadrato(x) for x in D]"
   ]
  },
  {
   "cell_type": "code",
   "execution_count": null,
   "metadata": {
    "collapsed": false
   },
   "outputs": [],
   "source": [
    "print(D[0], Y[0])"
   ]
  },
  {
   "cell_type": "markdown",
   "metadata": {},
   "source": [
    "Vediamo ora come utilizzare questi punti per creare un grafico di `Quadrato(x)`. \n",
    "\n",
    "Per poterlo fare dobbiamo utilizzare le funzione:\n",
    "\n",
    "* `plot(x,y)`: prepara il grafico per ogni coppia di punti contenuti nelle due sequenza (della stessa lunghezza) x e y.\n",
    "* `xlabel` e `ylabel`: servono per definire la descrizione dell'asse delle ascisse e delle ordinate\n",
    "* `show`: serve per visualizzare effettivamente il grafico appena definito\n",
    "\n",
    "Per maggiori dettagli, si veda la documentazione di [plot](http://matplotlib.org/api/_as_gen/matplotlib.pyplot.plot.html), [xlabel](https://matplotlib.org/devdocs/api/_as_gen/matplotlib.pyplot.xlabel.html), [ylabel](https://matplotlib.org/devdocs/api/_as_gen/matplotlib.pyplot.ylabel.html) e [show](https://matplotlib.org/devdocs/api/_as_gen/matplotlib.pyplot.show.html).\n",
    "\n",
    "Utilizzando questi comandi, possiamo facilmente rappresentare graficamente la funzione $x^2$:"
   ]
  },
  {
   "cell_type": "code",
   "execution_count": null,
   "metadata": {
    "collapsed": false
   },
   "outputs": [],
   "source": [
    "plot(D,Y)\n",
    "xlabel(\"x\")\n",
    "ylabel(\"y=f(x)=x^2\")\n",
    "show()"
   ]
  },
  {
   "cell_type": "markdown",
   "metadata": {},
   "source": [
    "Se invece di rapresentare la funzione $f(x)=x^2$ volessimo rappresentare la funzione $f(x)=x^3$, definita nello stesso dominio, ci basta calcolare la sequenza di numeri `Y`:"
   ]
  },
  {
   "cell_type": "code",
   "execution_count": null,
   "metadata": {
    "collapsed": true
   },
   "outputs": [],
   "source": [
    "Y = [x*x*x for x in D]"
   ]
  },
  {
   "cell_type": "code",
   "execution_count": null,
   "metadata": {
    "collapsed": false
   },
   "outputs": [],
   "source": [
    "plot(D,Y)\n",
    "xlabel(\"x\")\n",
    "ylabel(\"y=f(x)=x^3\")\n",
    "show()"
   ]
  },
  {
   "cell_type": "markdown",
   "metadata": {},
   "source": [
    "Di solito quello che si vuole fare è di sovrapporre sullo stesso grafico funzioni tra di loro simili, ma che sono definite da parametri diversi. Se consideriamo la funzione potenza $f(x)=x^n$ per $x \\in D$, potremmo voler dare una rappresentazione grafica dell quattro funzioni che si ottengono per $n \\in \\{1,2,3,4\\}$. Questo può essere ottenuto in python richiamando più volte la funzione `plot(x,y)`, prima di chiamare la funzione `show()`.\n",
    "\n",
    "**ESEMPIO:** (diverse funzioni sullo stesso plot)"
   ]
  },
  {
   "cell_type": "code",
   "execution_count": null,
   "metadata": {
    "collapsed": false
   },
   "outputs": [],
   "source": [
    "D = linspace(-2, 2, 1000)\n",
    "plot(D, [x**1 for x in D])\n",
    "plot(D, [x**2 for x in D])\n",
    "plot(D, [x**3 for x in D])\n",
    "plot(D, [x**4 for x in D])\n",
    "xlabel(\"x\")\n",
    "ylabel(\"y=f(x)=x^n\")\n",
    "show()"
   ]
  },
  {
   "cell_type": "markdown",
   "metadata": {},
   "source": [
    "Infine, può essere interessante a volte rappresentare una funzione in scala logaritmica su entrambi gli assi, oppure, può essere utile aggiungere una legenda al grafico, per poter distinguere facilmente le diverse funzioni rappresentate.\n",
    "\n",
    "Per maggiori dettagli, si veda la documentazione di [legend](https://matplotlib.org/devdocs/api/_as_gen/matplotlib.pyplot.legend.html), [xscale](https://matplotlib.org/devdocs/api/_as_gen/matplotlib.pyplot.xscale.html) e[yscale](https://matplotlib.org/devdocs/api/_as_gen/matplotlib.pyplot.yscale.html).\n",
    "\n",
    "**ESEMPIO:** (coordinate cartesiane e legenda)"
   ]
  },
  {
   "cell_type": "code",
   "execution_count": null,
   "metadata": {
    "collapsed": false
   },
   "outputs": [],
   "source": [
    "from matplotlib.pyplot import xscale, yscale, legend\n",
    "D = linspace(0.01, 100, 1000)\n",
    "plot(D, [x**1 for x in D], label=\"y=x\")\n",
    "plot(D, [x**2 for x in D], label=\"y=x^2\")\n",
    "plot(D, [x**3 for x in D], label=\"y=x^3\")\n",
    "plot(D, [x**4 for x in D], label=\"y=x^4\")\n",
    "xscale(\"log\")\n",
    "yscale(\"log\")\n",
    "xlabel(\"x - log scale\")\n",
    "ylabel(\"y=f(x)=x^n - log scale\")\n",
    "legend(loc=\"upper left\", shadow=True)\n",
    "show()"
   ]
  },
  {
   "cell_type": "markdown",
   "metadata": {},
   "source": [
    "## Funzioni trigonometriche\n",
    "Per poter rappresentare delle funzioni trigonometriche, è necessario utilizzare una terza libreria di Python (abbiamo già usato `numpy` e `matplotlib`), chiamata `math`, che definisce tutte le costanti (e.g. $\\pi$ e $e$) e le funzioni matematiche (e.g. $\\sin(x)$, $\\log(x)$, $e^x$, sqrt$(x)=\\sqrt(x)$, ...) di uso comune. Per la lista completa di funzioni implementate, consulare la [documentazione della libreria *math*](https://docs.python.org/3/library/math.html).\n",
    "\n",
    "**ESEMPIO:** plot della funzione $f(x)=a\\,sin(x)$, per $a=0.5,1,3$, nel dominio $[0,2 \\pi]$."
   ]
  },
  {
   "cell_type": "code",
   "execution_count": null,
   "metadata": {
    "collapsed": false
   },
   "outputs": [],
   "source": [
    "# Per prima cosa importo la funzione sin(x) e la costante pi (pi-greco)\n",
    "from math import sin, pi\n",
    "print(pi)"
   ]
  },
  {
   "cell_type": "code",
   "execution_count": null,
   "metadata": {
    "collapsed": false
   },
   "outputs": [],
   "source": [
    "# Poi scrivo i comandi per ottenere i grafici voluti\n",
    "D = linspace(0, 2*pi, 1000)\n",
    "plot(D, [0.5*sin(x) for x in D], label=\"y=0.5*sin(x)\")\n",
    "plot(D, [1.0*sin(x) for x in D], label=\"y=1.0*sin(x)\")\n",
    "plot(D, [3.0*sin(x) for x in D], label=\"y=2.0*sin(x)\")\n",
    "xlabel(\"x\")\n",
    "ylabel(\"y=f(x)=a sin(x)\")\n",
    "legend(loc=\"upper right\", shadow=True)\n",
    "show()"
   ]
  },
  {
   "cell_type": "markdown",
   "metadata": {},
   "source": [
    "**ESERCIZIO 5.1:** Rappresentare il grafico della funzione esponenziale $a^x$, nell'intervallo $[-4,4]$, utilizzando i seguenti valori di $a$: 1.2, 1.4 2 (sovrapporre i grafici nella stessa figura). (Nota: si dovrebbe ottenere un grafico simile a quello di Figura 3.19a in X).\n"
   ]
  },
  {
   "cell_type": "code",
   "execution_count": null,
   "metadata": {
    "collapsed": true
   },
   "outputs": [],
   "source": []
  },
  {
   "cell_type": "markdown",
   "metadata": {},
   "source": [
    "**ESERCIZIO 5.2:** Rappresentare il grafico della funzione esponenziale $a^x$, nell'intervallo $[-4,4]$, utilizzando i seguenti valori di $a$: 0.8, 0.7, 0.5 (sovrapporre i grafici nella stessa figura). (Nota: si dovrebbe ottenere un grafico simile a quello di Figura 3.19b in X)."
   ]
  },
  {
   "cell_type": "code",
   "execution_count": null,
   "metadata": {
    "collapsed": true
   },
   "outputs": [],
   "source": []
  }
 ],
 "metadata": {
  "kernelspec": {
   "display_name": "Python [default]",
   "language": "python",
   "name": "python3"
  },
  "language_info": {
   "codemirror_mode": {
    "name": "ipython",
    "version": 3
   },
   "file_extension": ".py",
   "mimetype": "text/x-python",
   "name": "python",
   "nbconvert_exporter": "python",
   "pygments_lexer": "ipython3",
   "version": "3.5.3"
  }
 },
 "nbformat": 4,
 "nbformat_minor": 2
}
